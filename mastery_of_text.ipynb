{
 "cells": [
  {
   "cell_type": "code",
   "execution_count": 47,
   "id": "f65126ee-a145-48a6-a4d0-0d2b310aeb63",
   "metadata": {},
   "outputs": [
    {
     "name": "stdout",
     "output_type": "stream",
     "text": [
      "Number of lines: 99968\n",
      "Word Count: 795227\n",
      "\"Apostle\" word count: 47\n",
      "Most Common Word: ['the']\n"
     ]
    }
   ],
   "source": [
    "#Import Library\n",
    "import urllib.request\n",
    "\n",
    "#Save URL text and name it as pg10\n",
    "url=\"https://www.gutenberg.org/cache/epub/10/pg10.txt\"\n",
    "with urllib.request.urlopen(url) as response:\n",
    "    pg10= response.read()\n",
    "    pg10= pg10.decode('utf-8')\n",
    "\n",
    "#line counter [Number of lines: 99968]\n",
    "num_lines = len(pg10.splitlines())\n",
    "print(\"Number of lines:\", num_lines)\n",
    "\n",
    "#make a clean list \n",
    "d=[] #this is a list of all the words in the file that are adjacent alphabet chars.\n",
    "word= ''\n",
    "for i in pg10:\n",
    "    if i.isalpha():\n",
    "        word+=i\n",
    "    else:\n",
    "        if len(word)>0:\n",
    "            d.append(word)\n",
    "            word = ''\n",
    "#word count\n",
    "word_count=len(d)\n",
    "print('Word Count:',word_count)\n",
    "\n",
    "#apostle counter\n",
    "lowerd = [x.lower() for x in d] #make the clean list lowercase\n",
    "apostle_count=0\n",
    "for x in lowerd:\n",
    "    if x==\"apostle\":\n",
    "        apostle_count=apostle_count+1\n",
    "print ('\"Apostle\" word count:', apostle_count)\n",
    "\n",
    "#most common word\n",
    "split=pg10.split()\n",
    "dictionary={}\n",
    "for word in split:\n",
    "    if word in dictionary:\n",
    "        dictionary[word]=dictionary[word]+1\n",
    "    else:\n",
    "        dictionary[word]=1\n",
    "no_repeated=max(dictionary.values()) #the no. of times the most common word is repeated \n",
    "common_word=[word for word, count in dictionary.items() if count==no_repeated]\n",
    "print('Most Common Word:', common_word)\n",
    "\n",
    "\n",
    "#RENDERED ANSWERS\n",
    "#Number of lines: 99968\n",
    "#Word Count: 795227\n",
    "#\"Apostle\" word count: 47\n",
    "#Most Common Word: ['the']"
   ]
  },
  {
   "cell_type": "code",
   "execution_count": null,
   "id": "e66b9191-5609-40f5-ae66-c5544a4c3520",
   "metadata": {},
   "outputs": [],
   "source": []
  }
 ],
 "metadata": {
  "kernelspec": {
   "display_name": "Python 3 (ipykernel)",
   "language": "python",
   "name": "python3"
  },
  "language_info": {
   "codemirror_mode": {
    "name": "ipython",
    "version": 3
   },
   "file_extension": ".py",
   "mimetype": "text/x-python",
   "name": "python",
   "nbconvert_exporter": "python",
   "pygments_lexer": "ipython3",
   "version": "3.11.7"
  }
 },
 "nbformat": 4,
 "nbformat_minor": 5
}
